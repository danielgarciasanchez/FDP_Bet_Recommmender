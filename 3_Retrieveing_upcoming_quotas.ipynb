{
 "cells": [
  {
   "cell_type": "markdown",
   "metadata": {},
   "source": [
    "###### Needed installation"
   ]
  },
  {
   "cell_type": "code",
   "execution_count": 1,
   "metadata": {},
   "outputs": [
    {
     "name": "stdout",
     "output_type": "stream",
     "text": [
      "Requirement already satisfied: flatten_json in /Users/Dani/opt/anaconda3/lib/python3.8/site-packages (0.1.13)\n",
      "Requirement already satisfied: six in /Users/Dani/opt/anaconda3/lib/python3.8/site-packages (from flatten_json) (1.15.0)\n",
      "Note: you may need to restart the kernel to use updated packages.\n"
     ]
    }
   ],
   "source": [
    "pip install flatten_json"
   ]
  },
  {
   "cell_type": "markdown",
   "metadata": {},
   "source": [
    "##### Main libraries"
   ]
  },
  {
   "cell_type": "code",
   "execution_count": 90,
   "metadata": {},
   "outputs": [],
   "source": [
    "#basic libraries \n",
    "\n",
    "import pandas as pd\n",
    "import numpy as np\n",
    "import matplotlib.pyplot as plt\n",
    "\n",
    "#scrapping libraries\n",
    "\n",
    "import requests, json\n",
    "from flatten_json import flatten # to simplify nested json files in pandas df"
   ]
  },
  {
   "cell_type": "code",
   "execution_count": 91,
   "metadata": {},
   "outputs": [],
   "source": [
    "pd.set_option('max_colwidth', None)"
   ]
  },
  {
   "cell_type": "markdown",
   "metadata": {},
   "source": [
    "#### ------------------------------------------------------------------------------------------------------"
   ]
  },
  {
   "cell_type": "markdown",
   "metadata": {},
   "source": [
    "#### Because the season 2020-21 is over there isn't a next round so I will use the last one and I will update the rest of the code when the season 2021-22 begins."
   ]
  },
  {
   "cell_type": "code",
   "execution_count": 92,
   "metadata": {},
   "outputs": [],
   "source": [
    "#Retrieving last season\n",
    "\n",
    "df_odds = pd.read_csv('http://www.football-data.co.uk/mmz4281/2021/SP1.csv', header = 0, usecols = ['HomeTeam', 'AwayTeam','B365H', 'B365D', 'B365A'])\n",
    "df_odds = df_odds.tail(10)\n",
    "\n",
    "df_odds.to_excel('coming_round.xlsx')"
   ]
  },
  {
   "cell_type": "code",
   "execution_count": 93,
   "metadata": {},
   "outputs": [
    {
     "data": {
      "text/html": [
       "<div>\n",
       "<style scoped>\n",
       "    .dataframe tbody tr th:only-of-type {\n",
       "        vertical-align: middle;\n",
       "    }\n",
       "\n",
       "    .dataframe tbody tr th {\n",
       "        vertical-align: top;\n",
       "    }\n",
       "\n",
       "    .dataframe thead th {\n",
       "        text-align: right;\n",
       "    }\n",
       "</style>\n",
       "<table border=\"1\" class=\"dataframe\">\n",
       "  <thead>\n",
       "    <tr style=\"text-align: right;\">\n",
       "      <th></th>\n",
       "      <th>HomeTeam</th>\n",
       "      <th>AwayTeam</th>\n",
       "      <th>B365H</th>\n",
       "      <th>B365D</th>\n",
       "      <th>B365A</th>\n",
       "    </tr>\n",
       "  </thead>\n",
       "  <tbody>\n",
       "    <tr>\n",
       "      <th>370</th>\n",
       "      <td>Levante</td>\n",
       "      <td>Cadiz</td>\n",
       "      <td>1.75</td>\n",
       "      <td>4.10</td>\n",
       "      <td>4.10</td>\n",
       "    </tr>\n",
       "    <tr>\n",
       "      <th>371</th>\n",
       "      <td>Celta</td>\n",
       "      <td>Betis</td>\n",
       "      <td>3.20</td>\n",
       "      <td>3.80</td>\n",
       "      <td>2.10</td>\n",
       "    </tr>\n",
       "    <tr>\n",
       "      <th>372</th>\n",
       "      <td>Eibar</td>\n",
       "      <td>Barcelona</td>\n",
       "      <td>4.33</td>\n",
       "      <td>4.75</td>\n",
       "      <td>1.65</td>\n",
       "    </tr>\n",
       "    <tr>\n",
       "      <th>373</th>\n",
       "      <td>Elche</td>\n",
       "      <td>Ath Bilbao</td>\n",
       "      <td>1.95</td>\n",
       "      <td>3.60</td>\n",
       "      <td>3.80</td>\n",
       "    </tr>\n",
       "    <tr>\n",
       "      <th>374</th>\n",
       "      <td>Huesca</td>\n",
       "      <td>Valencia</td>\n",
       "      <td>1.65</td>\n",
       "      <td>4.20</td>\n",
       "      <td>5.00</td>\n",
       "    </tr>\n",
       "    <tr>\n",
       "      <th>375</th>\n",
       "      <td>Osasuna</td>\n",
       "      <td>Sociedad</td>\n",
       "      <td>5.00</td>\n",
       "      <td>4.33</td>\n",
       "      <td>1.61</td>\n",
       "    </tr>\n",
       "    <tr>\n",
       "      <th>376</th>\n",
       "      <td>Real Madrid</td>\n",
       "      <td>Villarreal</td>\n",
       "      <td>1.40</td>\n",
       "      <td>5.00</td>\n",
       "      <td>6.50</td>\n",
       "    </tr>\n",
       "    <tr>\n",
       "      <th>377</th>\n",
       "      <td>Valladolid</td>\n",
       "      <td>Ath Madrid</td>\n",
       "      <td>9.00</td>\n",
       "      <td>5.25</td>\n",
       "      <td>1.33</td>\n",
       "    </tr>\n",
       "    <tr>\n",
       "      <th>378</th>\n",
       "      <td>Granada</td>\n",
       "      <td>Getafe</td>\n",
       "      <td>2.62</td>\n",
       "      <td>3.40</td>\n",
       "      <td>2.60</td>\n",
       "    </tr>\n",
       "    <tr>\n",
       "      <th>379</th>\n",
       "      <td>Sevilla</td>\n",
       "      <td>Alaves</td>\n",
       "      <td>1.50</td>\n",
       "      <td>4.33</td>\n",
       "      <td>6.50</td>\n",
       "    </tr>\n",
       "  </tbody>\n",
       "</table>\n",
       "</div>"
      ],
      "text/plain": [
       "        HomeTeam    AwayTeam  B365H  B365D  B365A\n",
       "370      Levante       Cadiz   1.75   4.10   4.10\n",
       "371        Celta       Betis   3.20   3.80   2.10\n",
       "372        Eibar   Barcelona   4.33   4.75   1.65\n",
       "373        Elche  Ath Bilbao   1.95   3.60   3.80\n",
       "374       Huesca    Valencia   1.65   4.20   5.00\n",
       "375      Osasuna    Sociedad   5.00   4.33   1.61\n",
       "376  Real Madrid  Villarreal   1.40   5.00   6.50\n",
       "377   Valladolid  Ath Madrid   9.00   5.25   1.33\n",
       "378      Granada      Getafe   2.62   3.40   2.60\n",
       "379      Sevilla      Alaves   1.50   4.33   6.50"
      ]
     },
     "execution_count": 93,
     "metadata": {},
     "output_type": "execute_result"
    }
   ],
   "source": [
    "df_odds"
   ]
  },
  {
   "cell_type": "markdown",
   "metadata": {},
   "source": [
    "#### ------------------------------------------------------------------------------------------------------"
   ]
  },
  {
   "cell_type": "markdown",
   "metadata": {},
   "source": [
    "#### The following cells will be replaced and updated as soon as the data for the next season is available. This part of the code was intended to retrieve the coming round so it doesn´t work anymore. It will be displayed for academical reasons as ´markdown'."
   ]
  },
  {
   "cell_type": "markdown",
   "metadata": {},
   "source": [
    "##### 1) Scrapping upcoming events"
   ]
  },
  {
   "cell_type": "markdown",
   "metadata": {},
   "source": [
    "# upcoming events\n",
    "\n",
    "url = \"https://betsapi2.p.rapidapi.com/v1/bet365/upcoming\"\n",
    "\n",
    "querystring = {\"sport_id\":\"1\",\"league_id\":\"10041110\",\"page\":\"1\"}\n",
    "\n",
    "headers = {\n",
    "    'x-rapidapi-key': \"aea4b96da0mshe2e45935146cf96p11c6a9jsnc73ba2aae11c\",\n",
    "    'x-rapidapi-host': \"betsapi2.p.rapidapi.com\"\n",
    "    }\n",
    "\n",
    "response = requests.request(\"GET\", url, headers=headers, params=querystring)"
   ]
  },
  {
   "cell_type": "markdown",
   "metadata": {},
   "source": [
    "###### 1.1) Upcoming events : from json to dataframe"
   ]
  },
  {
   "cell_type": "markdown",
   "metadata": {},
   "source": [
    "upcoming_events=json.loads(response.text[67:-1])\n",
    "\n",
    "response_columns = ['id','sport_id','time','time_status','league_id','league_name','home_id','home_name','away_id','away_name','ss','our_event_id','r_id','updated_at']\n",
    "df_upc_events = pd.DataFrame(columns=response_columns)\n",
    "\n",
    "for match in upcoming_events:\n",
    "    match_list = flatten(match)\n",
    "    df_upc_events = df_upc_events.append(match_list, ignore_index=True)\n",
    "\n",
    "df_upc_events = df_upc_events.drop(['away_id', 'home_id','league_id','league_name','r_id','ss','time', 'time_status','sport_id','our_event_id','updated_at'], axis = 1)\n",
    "df_upc_events = df_upc_events[0:10]"
   ]
  },
  {
   "cell_type": "markdown",
   "metadata": {},
   "source": [
    "df_upc_events"
   ]
  },
  {
   "cell_type": "markdown",
   "metadata": {},
   "source": [
    "##### 2) Scrapping upcoming events odds"
   ]
  },
  {
   "cell_type": "markdown",
   "metadata": {},
   "source": [
    "url = \"https://betsapi2.p.rapidapi.com/v3/bet365/prematch\"\n",
    "\n",
    "headers = {\n",
    "    'x-rapidapi-key': \"aea4b96da0mshe2e45935146cf96p11c6a9jsnc73ba2aae11c\",\n",
    "    'x-rapidapi-host': \"betsapi2.p.rapidapi.com\"\n",
    "    }\n",
    "\n",
    "df_upc_odds = pd.DataFrame(columns = ['id','1','X','2'])\n",
    "\n",
    "for i in df_upc_events.id:\n",
    "\n",
    "    querystring = {\"FI\":i}\n",
    "    \n",
    "    upcoming_odds = requests.request(\"GET\", url, headers=headers, params=querystring)\n",
    "    \n",
    "    # turn output into a daframe\n",
    "    \n",
    "    upcoming_odds =json.loads(upcoming_odds.text[24:-2])                                    # Fitting the output\n",
    "    upcoming_odds = flatten(upcoming_odds)\n",
    "\n",
    "    FI = upcoming_odds.get('FI')\n",
    "    result_1 = upcoming_odds.get('main_sp_full_time_result_odds_0_odds')                    \n",
    "    result_X = upcoming_odds.get('main_sp_full_time_result_odds_1_odds')\n",
    "    result_2 = upcoming_odds.get('main_sp_full_time_result_odds_2_odds')                    # Retrieving key data\n",
    "    \n",
    "    list = [FI,result_1,result_X, result_2]       \n",
    "    a_series = pd.Series(list, index = df_upc_odds.columns)                                 # Gathering key data \n",
    "    df_upc_odds = df_upc_odds.append(a_series, ignore_index=True)"
   ]
  },
  {
   "cell_type": "markdown",
   "metadata": {},
   "source": [
    "upcoming_odds"
   ]
  },
  {
   "cell_type": "markdown",
   "metadata": {},
   "source": [
    "##### 3) Merging both datasets"
   ]
  },
  {
   "cell_type": "markdown",
   "metadata": {},
   "source": [
    "df_odds = df_upc_events.merge(df_upc_odds, how = 'left', on = 'id')"
   ]
  },
  {
   "cell_type": "markdown",
   "metadata": {},
   "source": [
    "# To match names in the historical dataset\n",
    "\n",
    "renaming_teams = {'CD Alaves':'Alaves','Athletic Bilbao':'Ath Bilbao','Real Betis':'Betis','Atletico Madrid':'Ath Madrid','Celta Vigo':'Celta','Real Sociedad':'Sociedad'}\n",
    "\n",
    "df_odds['home_name'].replace(renaming_teams, inplace = True)\n",
    "df_odds['away_name'].replace(renaming_teams, inplace = True)"
   ]
  },
  {
   "cell_type": "markdown",
   "metadata": {},
   "source": [
    "df_odds.to_excel('coming_round.xlsx')"
   ]
  }
 ],
 "metadata": {
  "kernelspec": {
   "display_name": "Python 3",
   "language": "python",
   "name": "python3"
  },
  "language_info": {
   "codemirror_mode": {
    "name": "ipython",
    "version": 3
   },
   "file_extension": ".py",
   "mimetype": "text/x-python",
   "name": "python",
   "nbconvert_exporter": "python",
   "pygments_lexer": "ipython3",
   "version": "3.8.3"
  }
 },
 "nbformat": 4,
 "nbformat_minor": 4
}
