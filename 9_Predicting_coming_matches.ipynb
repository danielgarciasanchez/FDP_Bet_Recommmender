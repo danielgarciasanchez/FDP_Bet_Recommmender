{
 "cells": [
  {
   "cell_type": "markdown",
   "metadata": {},
   "source": [
    "#### APPLYING ML MODELS TO THE NEXT COMING MATCHES"
   ]
  },
  {
   "cell_type": "code",
   "execution_count": 182,
   "metadata": {},
   "outputs": [],
   "source": [
    "# Importing the coming matchs with the odds\n",
    "\n",
    "coming_round = pd.read_excel('coming_round.xlsx', names=['index','id','HomeTeam','AwayTeam','B365H','B365D','B365A'], dtypes = ['int','int','str','str','float','float','float'])\n",
    "coming_round.drop(['index'], axis = 1, inplace=True)"
   ]
  },
  {
   "cell_type": "markdown",
   "metadata": {},
   "source": [
    "##### Setting up the coming matches witht the same content and format than the trained dataset"
   ]
  },
  {
   "cell_type": "code",
   "execution_count": 183,
   "metadata": {},
   "outputs": [],
   "source": [
    "#Current season \n",
    "current_season = max(historical_data['season'])\n",
    "\n",
    "# Filtering historical dataset by current season\n",
    "historical_acc_current_season = historical_acc[historical_acc['season'] == current_season]\n",
    "\n",
    "# Calculating the latest match played by each team\n",
    "historical_acc_current_season_round = historical_acc_current_season.groupby('Team')[['match']].max().reset_index()\n",
    "\n",
    "# Historical dataset figures at the latest game\n",
    "historical_acc_current_season_match = historical_acc_current_season_round.merge(historical_acc_current_season, left_on=['Team','match'],right_on=['Team','match'])\n",
    "\n",
    "# We need to adjust accumulated figures and update classification\n",
    "\n",
    "historical_acc_current_season_match['goals_for_acc'] = historical_acc_current_season_match['goals_for_acc'] + historical_acc_current_season_match['goals_for']\n",
    "historical_acc_current_season_match['goals_against_acc'] = historical_acc_current_season_match['goals_against_acc'] + historical_acc_current_season_match['goals_against']\n",
    "historical_acc_current_season_match['shots_for_acc'] = historical_acc_current_season_match['shots_for_acc'] + historical_acc_current_season_match['shots_for']\n",
    "historical_acc_current_season_match['shots_against_acc'] = historical_acc_current_season_match['shots_against_acc'] + historical_acc_current_season_match['shots_against']\n",
    "historical_acc_current_season_match['shots_target_for_acc'] = historical_acc_current_season_match['shots_target_for_acc'] + historical_acc_current_season_match['shots_target_for']\n",
    "historical_acc_current_season_match['shots_target_against_acc'] = historical_acc_current_season_match['shots_target_against_acc'] + historical_acc_current_season_match['shots_target_against']\n",
    "historical_acc_current_season_match['points_acc'] = historical_acc_current_season_match['points_acc'] + historical_acc_current_season_match['points']\n",
    "historical_acc_current_season_match['ranking'] = historical_acc_current_season_match['points_acc'].rank(method='first', ascending=False)\n",
    "\n",
    "# Merging coming round and accumulated figures\n",
    "\n",
    "coming_round_home = coming_round.merge(historical_acc_current_season_match[['Div','season','match','Team','goals_for_acc','goals_against_acc','shots_for_acc','shots_against_acc','shots_target_for_acc','shots_target_against_acc','points_acc','ranking']], left_on='HomeTeam', right_on ='Team')\n",
    "coming_round_away = coming_round.merge(historical_acc_current_season_match[['Div','season','match','Team','goals_for_acc','goals_against_acc','shots_for_acc','shots_against_acc','shots_target_for_acc','shots_target_against_acc','points_acc','ranking']], left_on='AwayTeam', right_on ='Team', suffixes=('','_away'))\n",
    "coming_round_aux = coming_round_home[['Div','season','match','HomeTeam','AwayTeam','goals_for_acc','goals_against_acc','shots_for_acc','shots_against_acc','shots_target_for_acc','shots_target_against_acc','points_acc','ranking','B365H','B365D','B365A']]\n",
    "\n",
    "# Adjusting the accumulated numbers\n",
    "\n",
    "coming_round_aux['HomeCode'] = lab_enc_teams.fit_transform(coming_round_aux[[\"HomeTeam\"]].values.reshape(-1,))\n",
    "coming_round_aux['AwayCode'] = lab_enc_teams.fit_transform(coming_round_aux[[\"AwayTeam\"]].values.reshape(-1,))\n",
    "coming_round_aux['goals_for_acc'] = coming_round_aux.loc[:,'goals_for_acc'] - coming_round_away.loc[:,'goals_for_acc']\n",
    "coming_round_aux['goals_against_acc'] = coming_round_aux['goals_against_acc'] - coming_round_away['goals_for_acc']\n",
    "coming_round_aux['shots_for_acc'] = coming_round_aux['shots_for_acc'] - coming_round_away['shots_for_acc']\n",
    "coming_round_aux['shots_against_acc'] = coming_round_aux['shots_against_acc'] - coming_round_away['shots_against_acc']\n",
    "coming_round_aux['shots_target_for_acc'] = coming_round_aux['shots_target_for_acc'] - coming_round_away['shots_target_for_acc']\n",
    "coming_round_aux['shots_target_against_acc'] = coming_round_aux['shots_target_against_acc'] - coming_round_away['shots_target_against_acc']\n",
    "coming_round_aux['points_acc'] = coming_round_aux['points_acc'] - coming_round_away['points_acc']\n",
    "coming_round_aux['ranking'] = coming_round_aux['ranking'] - coming_round_away['ranking']\n",
    "coming_round_aux.drop(['Div','HomeTeam','AwayTeam'], axis = 1, inplace = True)\n",
    "\n",
    "# Changing season & match types\n",
    "\n",
    "coming_round_aux['season'] = coming_round_aux['season'].astype(int)\n",
    "coming_round_aux['match'] = (coming_round_aux['match'] +1).astype(int)\n",
    "\n",
    "# Predicting clusters to the coming matches\n",
    "                 \n",
    "coming_round_scaled = pd.DataFrame(scaler.transform(coming_round_aux.iloc[:,0:10]), columns = coming_round_aux.columns[0:10])\n",
    "coming_round_cluster_predictions = kmeans.predict(coming_round_scaled)\n",
    "\n",
    "# Final coming round\n",
    "\n",
    "coming_round_final = coming_round_aux.iloc[:,np.r_[0:10,13,14]]"
   ]
  },
  {
   "cell_type": "markdown",
   "metadata": {},
   "source": [
    "##### Applying the prediction results from the different ML models "
   ]
  },
  {
   "cell_type": "code",
   "execution_count": 184,
   "metadata": {},
   "outputs": [],
   "source": [
    "coming_round_all = pd.DataFrame()\n",
    "\n",
    "for model in models:\n",
    "    \n",
    "    # Calculating predictions and probabilities to the coming matches\n",
    "    \n",
    "    coming_round_final = coming_round_aux.iloc[:,np.r_[0:10,13,14]]             \n",
    "    predictions_coming_round_aux = models[model][2].predict(coming_round_final)\n",
    "    predictions_coming_round = lab_enc_results.inverse_transform(predictions_coming_round_aux)\n",
    "    predictions_prob_coming_round = models[model][2].predict_proba(coming_round_final)\n",
    "\n",
    "\n",
    "    # Adding clusters and probs to the coming matches\n",
    "                 \n",
    "    coming_round_final['cluster'] = coming_round_cluster_predictions\n",
    "    coming_round_final['prediction'] = predictions_coming_round\n",
    "    coming_round_final['Prob_Home%'] = np.round(predictions_prob_coming_round[:,2]*100,2)\n",
    "    coming_round_final['Prob_Draw%'] = np.round(predictions_prob_coming_round[:,1]*100,2)\n",
    "    coming_round_final['Prob_Away%'] = np.round(predictions_prob_coming_round[:,0]*100,2) \n",
    "    coming_round_final['model'] = model\n",
    "    \n",
    "    # Adding the quotas and teams\n",
    "    \n",
    "    bets = coming_round_aux[['B365H','B365D','B365A']]\n",
    "    teams = coming_round[['HomeTeam','AwayTeam']]\n",
    "    coming_round_final = pd.concat([coming_round_final,bets, teams], axis = 1)\n",
    "    \n",
    "    # Aggregating data\n",
    "    \n",
    "    coming_round_all  = coming_round_all.append(coming_round_final)"
   ]
  },
  {
   "cell_type": "code",
   "execution_count": 185,
   "metadata": {},
   "outputs": [],
   "source": [
    "# Exporting the results\n",
    "\n",
    "coming_round_all.to_excel('user_report/coming_round_all.xlsx')"
   ]
  },
  {
   "cell_type": "code",
   "execution_count": null,
   "metadata": {},
   "outputs": [],
   "source": []
  }
 ],
 "metadata": {
  "kernelspec": {
   "display_name": "Python 3",
   "language": "python",
   "name": "python3"
  },
  "language_info": {
   "codemirror_mode": {
    "name": "ipython",
    "version": 3
   },
   "file_extension": ".py",
   "mimetype": "text/x-python",
   "name": "python",
   "nbconvert_exporter": "python",
   "pygments_lexer": "ipython3",
   "version": "3.8.3"
  }
 },
 "nbformat": 4,
 "nbformat_minor": 4
}
