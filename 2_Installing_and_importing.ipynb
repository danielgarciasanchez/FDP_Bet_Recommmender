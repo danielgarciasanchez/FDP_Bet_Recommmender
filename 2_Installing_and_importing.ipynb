{
 "cells": [
  {
   "cell_type": "code",
   "execution_count": 1,
   "metadata": {},
   "outputs": [
    {
     "name": "stdout",
     "output_type": "stream",
     "text": [
      "Requirement already satisfied: datapackage in /Users/Dani/opt/anaconda3/lib/python3.8/site-packages (1.15.2)\n",
      "Requirement already satisfied: six>=1.10 in /Users/Dani/opt/anaconda3/lib/python3.8/site-packages (from datapackage) (1.15.0)\n",
      "Requirement already satisfied: jsonpointer>=1.10 in /Users/Dani/opt/anaconda3/lib/python3.8/site-packages (from datapackage) (2.0)\n",
      "Requirement already satisfied: chardet>=3.0 in /Users/Dani/opt/anaconda3/lib/python3.8/site-packages (from datapackage) (3.0.4)\n",
      "Requirement already satisfied: tabulator>=1.29 in /Users/Dani/opt/anaconda3/lib/python3.8/site-packages (from datapackage) (1.53.4)\n",
      "Requirement already satisfied: unicodecsv>=0.14 in /Users/Dani/opt/anaconda3/lib/python3.8/site-packages (from datapackage) (0.14.1)\n",
      "Requirement already satisfied: requests>=2.8 in /Users/Dani/opt/anaconda3/lib/python3.8/site-packages (from datapackage) (2.24.0)\n",
      "Requirement already satisfied: click>=6.7 in /Users/Dani/opt/anaconda3/lib/python3.8/site-packages (from datapackage) (7.1.2)\n",
      "Requirement already satisfied: tableschema>=1.12.1 in /Users/Dani/opt/anaconda3/lib/python3.8/site-packages (from datapackage) (1.20.2)\n",
      "Requirement already satisfied: jsonschema>=2.5 in /Users/Dani/opt/anaconda3/lib/python3.8/site-packages (from datapackage) (3.2.0)\n",
      "Requirement already satisfied: boto3>=1.9 in /Users/Dani/opt/anaconda3/lib/python3.8/site-packages (from tabulator>=1.29->datapackage) (1.16.59)\n",
      "Requirement already satisfied: jsonlines>=1.1 in /Users/Dani/opt/anaconda3/lib/python3.8/site-packages (from tabulator>=1.29->datapackage) (2.0.0)\n",
      "Requirement already satisfied: sqlalchemy>=0.9.6 in /Users/Dani/opt/anaconda3/lib/python3.8/site-packages (from tabulator>=1.29->datapackage) (1.3.18)\n",
      "Requirement already satisfied: ijson>=3.0.3 in /Users/Dani/opt/anaconda3/lib/python3.8/site-packages (from tabulator>=1.29->datapackage) (3.1.4)\n",
      "Requirement already satisfied: openpyxl>=2.6 in /Users/Dani/opt/anaconda3/lib/python3.8/site-packages (from tabulator>=1.29->datapackage) (3.0.4)\n",
      "Requirement already satisfied: linear-tsv>=1.0 in /Users/Dani/opt/anaconda3/lib/python3.8/site-packages (from tabulator>=1.29->datapackage) (1.1.0)\n",
      "Requirement already satisfied: xlrd>=1.0 in /Users/Dani/opt/anaconda3/lib/python3.8/site-packages (from tabulator>=1.29->datapackage) (1.2.0)\n",
      "Requirement already satisfied: certifi>=2017.4.17 in /Users/Dani/opt/anaconda3/lib/python3.8/site-packages (from requests>=2.8->datapackage) (2020.6.20)\n",
      "Requirement already satisfied: urllib3!=1.25.0,!=1.25.1,<1.26,>=1.21.1 in /Users/Dani/opt/anaconda3/lib/python3.8/site-packages (from requests>=2.8->datapackage) (1.25.9)\n",
      "Requirement already satisfied: idna<3,>=2.5 in /Users/Dani/opt/anaconda3/lib/python3.8/site-packages (from requests>=2.8->datapackage) (2.10)\n",
      "Requirement already satisfied: python-dateutil>=2.4 in /Users/Dani/opt/anaconda3/lib/python3.8/site-packages (from tableschema>=1.12.1->datapackage) (2.8.1)\n",
      "Requirement already satisfied: isodate>=0.5.4 in /Users/Dani/opt/anaconda3/lib/python3.8/site-packages (from tableschema>=1.12.1->datapackage) (0.6.0)\n",
      "Requirement already satisfied: rfc3986>=1.1.0 in /Users/Dani/opt/anaconda3/lib/python3.8/site-packages (from tableschema>=1.12.1->datapackage) (1.4.0)\n",
      "Requirement already satisfied: cached-property>=1.5 in /Users/Dani/opt/anaconda3/lib/python3.8/site-packages (from tableschema>=1.12.1->datapackage) (1.5.2)\n",
      "Requirement already satisfied: attrs>=17.4.0 in /Users/Dani/opt/anaconda3/lib/python3.8/site-packages (from jsonschema>=2.5->datapackage) (19.3.0)\n",
      "Requirement already satisfied: setuptools in /Users/Dani/opt/anaconda3/lib/python3.8/site-packages (from jsonschema>=2.5->datapackage) (49.2.0.post20200714)\n",
      "Requirement already satisfied: pyrsistent>=0.14.0 in /Users/Dani/opt/anaconda3/lib/python3.8/site-packages (from jsonschema>=2.5->datapackage) (0.16.0)\n",
      "Requirement already satisfied: s3transfer<0.4.0,>=0.3.0 in /Users/Dani/opt/anaconda3/lib/python3.8/site-packages (from boto3>=1.9->tabulator>=1.29->datapackage) (0.3.4)\n",
      "Requirement already satisfied: jmespath<1.0.0,>=0.7.1 in /Users/Dani/opt/anaconda3/lib/python3.8/site-packages (from boto3>=1.9->tabulator>=1.29->datapackage) (0.10.0)\n",
      "Requirement already satisfied: botocore<1.20.0,>=1.19.59 in /Users/Dani/opt/anaconda3/lib/python3.8/site-packages (from boto3>=1.9->tabulator>=1.29->datapackage) (1.19.59)\n",
      "Requirement already satisfied: jdcal in /Users/Dani/opt/anaconda3/lib/python3.8/site-packages (from openpyxl>=2.6->tabulator>=1.29->datapackage) (1.4.1)\n",
      "Requirement already satisfied: et-xmlfile in /Users/Dani/opt/anaconda3/lib/python3.8/site-packages (from openpyxl>=2.6->tabulator>=1.29->datapackage) (1.0.1)\n",
      "Note: you may need to restart the kernel to use updated packages.\n"
     ]
    }
   ],
   "source": [
    "pip install datapackage"
   ]
  },
  {
   "cell_type": "code",
   "execution_count": 2,
   "metadata": {},
   "outputs": [
    {
     "name": "stdout",
     "output_type": "stream",
     "text": [
      "Requirement already satisfied: tensorflow in /Users/Dani/opt/anaconda3/lib/python3.8/site-packages (2.4.1)\n",
      "Requirement already satisfied: google-pasta~=0.2 in /Users/Dani/opt/anaconda3/lib/python3.8/site-packages (from tensorflow) (0.2.0)\n",
      "Requirement already satisfied: h5py~=2.10.0 in /Users/Dani/opt/anaconda3/lib/python3.8/site-packages (from tensorflow) (2.10.0)\n",
      "Requirement already satisfied: astunparse~=1.6.3 in /Users/Dani/opt/anaconda3/lib/python3.8/site-packages (from tensorflow) (1.6.3)\n",
      "Requirement already satisfied: absl-py~=0.10 in /Users/Dani/opt/anaconda3/lib/python3.8/site-packages (from tensorflow) (0.12.0)\n",
      "Requirement already satisfied: wrapt~=1.12.1 in /Users/Dani/opt/anaconda3/lib/python3.8/site-packages (from tensorflow) (1.12.1)\n",
      "Requirement already satisfied: tensorflow-estimator<2.5.0,>=2.4.0 in /Users/Dani/opt/anaconda3/lib/python3.8/site-packages (from tensorflow) (2.4.0)\n",
      "Requirement already satisfied: grpcio~=1.32.0 in /Users/Dani/opt/anaconda3/lib/python3.8/site-packages (from tensorflow) (1.32.0)\n",
      "Requirement already satisfied: six~=1.15.0 in /Users/Dani/opt/anaconda3/lib/python3.8/site-packages (from tensorflow) (1.15.0)\n",
      "Requirement already satisfied: protobuf>=3.9.2 in /Users/Dani/opt/anaconda3/lib/python3.8/site-packages (from tensorflow) (3.14.0)\n",
      "Requirement already satisfied: wheel~=0.35 in /Users/Dani/opt/anaconda3/lib/python3.8/site-packages (from tensorflow) (0.36.2)\n",
      "Requirement already satisfied: termcolor~=1.1.0 in /Users/Dani/opt/anaconda3/lib/python3.8/site-packages (from tensorflow) (1.1.0)\n",
      "Requirement already satisfied: numpy~=1.19.2 in /Users/Dani/opt/anaconda3/lib/python3.8/site-packages (from tensorflow) (1.19.5)\n",
      "Requirement already satisfied: gast==0.3.3 in /Users/Dani/opt/anaconda3/lib/python3.8/site-packages (from tensorflow) (0.3.3)\n",
      "Requirement already satisfied: tensorboard~=2.4 in /Users/Dani/opt/anaconda3/lib/python3.8/site-packages (from tensorflow) (2.4.1)\n",
      "Requirement already satisfied: opt-einsum~=3.3.0 in /Users/Dani/opt/anaconda3/lib/python3.8/site-packages (from tensorflow) (3.3.0)\n",
      "Requirement already satisfied: typing-extensions~=3.7.4 in /Users/Dani/opt/anaconda3/lib/python3.8/site-packages (from tensorflow) (3.7.4.2)\n",
      "Requirement already satisfied: keras-preprocessing~=1.1.2 in /Users/Dani/opt/anaconda3/lib/python3.8/site-packages (from tensorflow) (1.1.2)\n",
      "Requirement already satisfied: flatbuffers~=1.12.0 in /Users/Dani/opt/anaconda3/lib/python3.8/site-packages (from tensorflow) (1.12)\n",
      "Requirement already satisfied: setuptools>=41.0.0 in /Users/Dani/opt/anaconda3/lib/python3.8/site-packages (from tensorboard~=2.4->tensorflow) (49.2.0.post20200714)\n",
      "Requirement already satisfied: werkzeug>=0.11.15 in /Users/Dani/opt/anaconda3/lib/python3.8/site-packages (from tensorboard~=2.4->tensorflow) (1.0.1)\n",
      "Requirement already satisfied: google-auth<2,>=1.6.3 in /Users/Dani/opt/anaconda3/lib/python3.8/site-packages (from tensorboard~=2.4->tensorflow) (1.28.0)\n",
      "Requirement already satisfied: google-auth-oauthlib<0.5,>=0.4.1 in /Users/Dani/opt/anaconda3/lib/python3.8/site-packages (from tensorboard~=2.4->tensorflow) (0.4.3)\n",
      "Requirement already satisfied: markdown>=2.6.8 in /Users/Dani/opt/anaconda3/lib/python3.8/site-packages (from tensorboard~=2.4->tensorflow) (3.3.4)\n",
      "Requirement already satisfied: tensorboard-plugin-wit>=1.6.0 in /Users/Dani/opt/anaconda3/lib/python3.8/site-packages (from tensorboard~=2.4->tensorflow) (1.8.0)\n",
      "Requirement already satisfied: requests<3,>=2.21.0 in /Users/Dani/opt/anaconda3/lib/python3.8/site-packages (from tensorboard~=2.4->tensorflow) (2.24.0)\n",
      "Requirement already satisfied: rsa<5,>=3.1.4; python_version >= \"3.6\" in /Users/Dani/opt/anaconda3/lib/python3.8/site-packages (from google-auth<2,>=1.6.3->tensorboard~=2.4->tensorflow) (4.7.2)\n",
      "Requirement already satisfied: pyasn1-modules>=0.2.1 in /Users/Dani/opt/anaconda3/lib/python3.8/site-packages (from google-auth<2,>=1.6.3->tensorboard~=2.4->tensorflow) (0.2.8)\n",
      "Requirement already satisfied: cachetools<5.0,>=2.0.0 in /Users/Dani/opt/anaconda3/lib/python3.8/site-packages (from google-auth<2,>=1.6.3->tensorboard~=2.4->tensorflow) (4.2.1)\n",
      "Requirement already satisfied: requests-oauthlib>=0.7.0 in /Users/Dani/opt/anaconda3/lib/python3.8/site-packages (from google-auth-oauthlib<0.5,>=0.4.1->tensorboard~=2.4->tensorflow) (1.3.0)\n",
      "Requirement already satisfied: idna<3,>=2.5 in /Users/Dani/opt/anaconda3/lib/python3.8/site-packages (from requests<3,>=2.21.0->tensorboard~=2.4->tensorflow) (2.10)\n",
      "Requirement already satisfied: chardet<4,>=3.0.2 in /Users/Dani/opt/anaconda3/lib/python3.8/site-packages (from requests<3,>=2.21.0->tensorboard~=2.4->tensorflow) (3.0.4)\n",
      "Requirement already satisfied: certifi>=2017.4.17 in /Users/Dani/opt/anaconda3/lib/python3.8/site-packages (from requests<3,>=2.21.0->tensorboard~=2.4->tensorflow) (2020.6.20)\n",
      "Requirement already satisfied: urllib3!=1.25.0,!=1.25.1,<1.26,>=1.21.1 in /Users/Dani/opt/anaconda3/lib/python3.8/site-packages (from requests<3,>=2.21.0->tensorboard~=2.4->tensorflow) (1.25.9)\n",
      "Requirement already satisfied: pyasn1>=0.1.3 in /Users/Dani/opt/anaconda3/lib/python3.8/site-packages (from rsa<5,>=3.1.4; python_version >= \"3.6\"->google-auth<2,>=1.6.3->tensorboard~=2.4->tensorflow) (0.4.8)\n",
      "Requirement already satisfied: oauthlib>=3.0.0 in /Users/Dani/opt/anaconda3/lib/python3.8/site-packages (from requests-oauthlib>=0.7.0->google-auth-oauthlib<0.5,>=0.4.1->tensorboard~=2.4->tensorflow) (3.1.0)\n",
      "Note: you may need to restart the kernel to use updated packages.\n"
     ]
    }
   ],
   "source": [
    "pip install tensorflow"
   ]
  },
  {
   "cell_type": "code",
   "execution_count": 3,
   "metadata": {},
   "outputs": [],
   "source": [
    "import pandas as pd\n",
    "import numpy as np\n",
    "import seaborn as sns\n",
    "import matplotlib.pyplot as plt\n",
    "%matplotlib inline\n",
    "\n",
    "from datapackage import Package\n",
    "\n",
    "from sklearn import model_selection\n",
    "from sklearn.preprocessing import LabelEncoder\n",
    "from sklearn.preprocessing import StandardScaler\n",
    "from sklearn.preprocessing import OneHotEncoder\n",
    "\n",
    "from sklearn.decomposition import PCA\n",
    "from sklearn.model_selection import train_test_split, cross_val_score\n",
    "from sklearn.metrics import accuracy_score, precision_score, recall_score, roc_auc_score, roc_curve, auc, mean_squared_error as MSE , silhouette_score\n",
    "\n",
    "from sklearn.cluster import KMeans\n",
    "from sklearn.tree import DecisionTreeClassifier\n",
    "from sklearn.ensemble import RandomForestClassifier\n",
    "from sklearn.linear_model import LogisticRegression\n",
    "from sklearn.tree import DecisionTreeClassifier\n",
    "from sklearn.neighbors import KNeighborsClassifier\n",
    "from sklearn.discriminant_analysis import LinearDiscriminantAnalysis\n",
    "from sklearn.naive_bayes import GaussianNB\n",
    "from sklearn.svm import SVC\n",
    "from sklearn import metrics\n",
    "\n",
    "import tensorflow as tf\n",
    "from keras.models import Sequential\n",
    "from keras.layers import Dense\n",
    "\n",
    "pd.options.mode.chained_assignment = None # To avoid set warning messages when I update a dataframe column using the df columns itself"
   ]
  },
  {
   "cell_type": "code",
   "execution_count": null,
   "metadata": {},
   "outputs": [],
   "source": []
  }
 ],
 "metadata": {
  "kernelspec": {
   "display_name": "Python 3",
   "language": "python",
   "name": "python3"
  },
  "language_info": {
   "codemirror_mode": {
    "name": "ipython",
    "version": 3
   },
   "file_extension": ".py",
   "mimetype": "text/x-python",
   "name": "python",
   "nbconvert_exporter": "python",
   "pygments_lexer": "ipython3",
   "version": "3.8.3"
  }
 },
 "nbformat": 4,
 "nbformat_minor": 4
}
