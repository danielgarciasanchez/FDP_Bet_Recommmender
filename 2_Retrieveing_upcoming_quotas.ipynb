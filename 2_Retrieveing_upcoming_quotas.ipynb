{
 "cells": [
  {
   "cell_type": "markdown",
   "metadata": {},
   "source": [
    "###### Needed installation"
   ]
  },
  {
   "cell_type": "code",
   "execution_count": 13,
   "metadata": {},
   "outputs": [
    {
     "name": "stdout",
     "output_type": "stream",
     "text": [
      "Requirement already satisfied: flatten_json in /Users/Dani/opt/anaconda3/lib/python3.8/site-packages (0.1.13)\n",
      "Requirement already satisfied: six in /Users/Dani/opt/anaconda3/lib/python3.8/site-packages (from flatten_json) (1.15.0)\n",
      "Note: you may need to restart the kernel to use updated packages.\n"
     ]
    }
   ],
   "source": [
    "pip install flatten_json"
   ]
  },
  {
   "cell_type": "markdown",
   "metadata": {},
   "source": [
    "##### Main libraries"
   ]
  },
  {
   "cell_type": "code",
   "execution_count": 52,
   "metadata": {},
   "outputs": [],
   "source": [
    "#basic libraries \n",
    "\n",
    "import pandas as pd\n",
    "import numpy as np\n",
    "import matplotlib.pyplot as plt\n",
    "\n",
    "#scrapping libraries\n",
    "\n",
    "import requests, json\n",
    "from flatten_json import flatten # to simplify nested json files in pandas df"
   ]
  },
  {
   "cell_type": "code",
   "execution_count": 53,
   "metadata": {},
   "outputs": [],
   "source": [
    "pd.set_option('max_colwidth', None)"
   ]
  },
  {
   "cell_type": "markdown",
   "metadata": {},
   "source": [
    "##### 1) Scrapping upcoming events"
   ]
  },
  {
   "cell_type": "code",
   "execution_count": 294,
   "metadata": {},
   "outputs": [],
   "source": [
    "# upcoming events\n",
    "\n",
    "url = \"https://betsapi2.p.rapidapi.com/v1/bet365/upcoming\"\n",
    "\n",
    "querystring = {\"sport_id\":\"1\",\"league_id\":\"10041110\",\"page\":\"1\"}\n",
    "\n",
    "headers = {\n",
    "    'x-rapidapi-key': \"aea4b96da0mshe2e45935146cf96p11c6a9jsnc73ba2aae11c\",\n",
    "    'x-rapidapi-host': \"betsapi2.p.rapidapi.com\"\n",
    "    }\n",
    "\n",
    "response = requests.request(\"GET\", url, headers=headers, params=querystring)"
   ]
  },
  {
   "cell_type": "markdown",
   "metadata": {},
   "source": [
    "###### 1.1) Upcoming events : from json to dataframe"
   ]
  },
  {
   "cell_type": "code",
   "execution_count": 295,
   "metadata": {},
   "outputs": [],
   "source": [
    "upcoming_events=json.loads(response.text[67:-1])\n",
    "\n",
    "response_columns = ['id','sport_id','time','time_status','league_id','league_name','home_id','home_name','away_id','away_name','ss','our_event_id','r_id','updated_at']\n",
    "df_upc_events = pd.DataFrame(columns=response_columns)\n",
    "\n",
    "for match in upcoming_events:\n",
    "    match_list = flatten(match)\n",
    "    df_upc_events = df_upc_events.append(match_list, ignore_index=True)\n",
    "\n",
    "df_upc_events = df_upc_events.drop(['away_id', 'home_id','league_id','league_name','r_id','ss','time', 'time_status','sport_id','our_event_id','updated_at'], axis = 1)\n",
    "df_upc_events = df_upc_events[0:10]"
   ]
  },
  {
   "cell_type": "markdown",
   "metadata": {},
   "source": [
    "##### 2) Scrapping upcoming events odds"
   ]
  },
  {
   "cell_type": "code",
   "execution_count": 333,
   "metadata": {},
   "outputs": [],
   "source": [
    "url = \"https://betsapi2.p.rapidapi.com/v3/bet365/prematch\"\n",
    "\n",
    "headers = {\n",
    "    'x-rapidapi-key': \"aea4b96da0mshe2e45935146cf96p11c6a9jsnc73ba2aae11c\",\n",
    "    'x-rapidapi-host': \"betsapi2.p.rapidapi.com\"\n",
    "    }\n",
    "\n",
    "df_upc_odds = pd.DataFrame(columns = ['id','1','X','2','Both_Scores_Y','Both_Scores_N'])\n",
    "\n",
    "for i in df_upc_events.id:\n",
    "\n",
    "    querystring = {\"FI\":i}\n",
    "    \n",
    "    upcoming_odds = requests.request(\"GET\", url, headers=headers, params=querystring)\n",
    "    \n",
    "    # turn output into a daframe\n",
    "    \n",
    "    upcoming_odds =json.loads(upcoming_odds.text[24:-2])                                    # Fitting the output\n",
    "    upcoming_odds = flatten(upcoming_odds)\n",
    "\n",
    "    FI = upcoming_odds.get('FI')\n",
    "    result_1 = upcoming_odds.get('main_sp_full_time_result_odds_0_odds')                    \n",
    "    result_X = upcoming_odds.get('main_sp_full_time_result_odds_1_odds')\n",
    "    result_2 = upcoming_odds.get('main_sp_full_time_result_odds_2_odds')                    # Retrieving key data\n",
    "    result_both_score_yes = upcoming_odds.get('goals_sp_both_teams_to_score_odds_0_odds')\n",
    "    result_both_score_no = upcoming_odds.get('goals_sp_both_teams_to_score_odds_1_odds')\n",
    "    \n",
    "    list = [FI,result_1,result_X, result_2, result_both_score_yes, result_both_score_no]       \n",
    "    a_series = pd.Series(list, index = df_upc_odds.columns)                                 # Gathering key data \n",
    "    df_upc_odds = df_upc_odds.append(a_series, ignore_index=True)"
   ]
  },
  {
   "cell_type": "markdown",
   "metadata": {},
   "source": [
    "##### 3) Merging both datasets"
   ]
  },
  {
   "cell_type": "code",
   "execution_count": 336,
   "metadata": {},
   "outputs": [],
   "source": [
    "df_odds = df_upc_events.merge(df_upc_odds, how = 'left', on = 'id')"
   ]
  },
  {
   "cell_type": "code",
   "execution_count": 337,
   "metadata": {},
   "outputs": [
    {
     "data": {
      "text/html": [
       "<div>\n",
       "<style scoped>\n",
       "    .dataframe tbody tr th:only-of-type {\n",
       "        vertical-align: middle;\n",
       "    }\n",
       "\n",
       "    .dataframe tbody tr th {\n",
       "        vertical-align: top;\n",
       "    }\n",
       "\n",
       "    .dataframe thead th {\n",
       "        text-align: right;\n",
       "    }\n",
       "</style>\n",
       "<table border=\"1\" class=\"dataframe\">\n",
       "  <thead>\n",
       "    <tr style=\"text-align: right;\">\n",
       "      <th></th>\n",
       "      <th>id</th>\n",
       "      <th>home_name</th>\n",
       "      <th>away_name</th>\n",
       "      <th>1</th>\n",
       "      <th>X</th>\n",
       "      <th>2</th>\n",
       "      <th>Both_Scores_Y</th>\n",
       "      <th>Both_Scores_N</th>\n",
       "    </tr>\n",
       "  </thead>\n",
       "  <tbody>\n",
       "    <tr>\n",
       "      <th>0</th>\n",
       "      <td>99186569</td>\n",
       "      <td>Valencia</td>\n",
       "      <td>Villarreal</td>\n",
       "      <td>3.800</td>\n",
       "      <td>3.300</td>\n",
       "      <td>2.000</td>\n",
       "      <td>1.800</td>\n",
       "      <td>1.950</td>\n",
       "    </tr>\n",
       "    <tr>\n",
       "      <th>1</th>\n",
       "      <td>99186571</td>\n",
       "      <td>Valladolid</td>\n",
       "      <td>Getafe</td>\n",
       "      <td>2.900</td>\n",
       "      <td>2.800</td>\n",
       "      <td>2.800</td>\n",
       "      <td>2.250</td>\n",
       "      <td>1.571</td>\n",
       "    </tr>\n",
       "    <tr>\n",
       "      <th>2</th>\n",
       "      <td>99186576</td>\n",
       "      <td>Elche</td>\n",
       "      <td>Sevilla</td>\n",
       "      <td>7.000</td>\n",
       "      <td>4.000</td>\n",
       "      <td>1.500</td>\n",
       "      <td>2.200</td>\n",
       "      <td>1.615</td>\n",
       "    </tr>\n",
       "    <tr>\n",
       "      <th>3</th>\n",
       "      <td>99186585</td>\n",
       "      <td>Cadiz</td>\n",
       "      <td>Eibar</td>\n",
       "      <td>3.250</td>\n",
       "      <td>3.100</td>\n",
       "      <td>2.350</td>\n",
       "      <td>2.100</td>\n",
       "      <td>1.666</td>\n",
       "    </tr>\n",
       "    <tr>\n",
       "      <th>4</th>\n",
       "      <td>99186590</td>\n",
       "      <td>Osasuna</td>\n",
       "      <td>Barcelona</td>\n",
       "      <td>5.500</td>\n",
       "      <td>4.333</td>\n",
       "      <td>1.533</td>\n",
       "      <td>1.666</td>\n",
       "      <td>2.100</td>\n",
       "    </tr>\n",
       "    <tr>\n",
       "      <th>5</th>\n",
       "      <td>99186592</td>\n",
       "      <td>Huesca</td>\n",
       "      <td>Celta Vigo</td>\n",
       "      <td>2.900</td>\n",
       "      <td>3.300</td>\n",
       "      <td>2.400</td>\n",
       "      <td>1.950</td>\n",
       "      <td>1.800</td>\n",
       "    </tr>\n",
       "    <tr>\n",
       "      <th>6</th>\n",
       "      <td>99186595</td>\n",
       "      <td>Atletico Madrid</td>\n",
       "      <td>Real Madrid</td>\n",
       "      <td>2.700</td>\n",
       "      <td>3.300</td>\n",
       "      <td>2.625</td>\n",
       "      <td>1.909</td>\n",
       "      <td>1.909</td>\n",
       "    </tr>\n",
       "    <tr>\n",
       "      <th>7</th>\n",
       "      <td>99186598</td>\n",
       "      <td>Real Sociedad</td>\n",
       "      <td>Levante</td>\n",
       "      <td>1.500</td>\n",
       "      <td>4.000</td>\n",
       "      <td>7.000</td>\n",
       "      <td>1.800</td>\n",
       "      <td>1.950</td>\n",
       "    </tr>\n",
       "    <tr>\n",
       "      <th>8</th>\n",
       "      <td>99186604</td>\n",
       "      <td>Athletic Bilbao</td>\n",
       "      <td>Granada</td>\n",
       "      <td>1.650</td>\n",
       "      <td>3.800</td>\n",
       "      <td>5.250</td>\n",
       "      <td>2.050</td>\n",
       "      <td>1.700</td>\n",
       "    </tr>\n",
       "    <tr>\n",
       "      <th>9</th>\n",
       "      <td>99186609</td>\n",
       "      <td>Real Betis</td>\n",
       "      <td>CD Alaves</td>\n",
       "      <td>1.750</td>\n",
       "      <td>3.700</td>\n",
       "      <td>4.500</td>\n",
       "      <td>1.950</td>\n",
       "      <td>1.800</td>\n",
       "    </tr>\n",
       "  </tbody>\n",
       "</table>\n",
       "</div>"
      ],
      "text/plain": [
       "         id        home_name    away_name      1      X      2 Both_Scores_Y  \\\n",
       "0  99186569         Valencia   Villarreal  3.800  3.300  2.000         1.800   \n",
       "1  99186571       Valladolid       Getafe  2.900  2.800  2.800         2.250   \n",
       "2  99186576            Elche      Sevilla  7.000  4.000  1.500         2.200   \n",
       "3  99186585            Cadiz        Eibar  3.250  3.100  2.350         2.100   \n",
       "4  99186590          Osasuna    Barcelona  5.500  4.333  1.533         1.666   \n",
       "5  99186592           Huesca   Celta Vigo  2.900  3.300  2.400         1.950   \n",
       "6  99186595  Atletico Madrid  Real Madrid  2.700  3.300  2.625         1.909   \n",
       "7  99186598    Real Sociedad      Levante  1.500  4.000  7.000         1.800   \n",
       "8  99186604  Athletic Bilbao      Granada  1.650  3.800  5.250         2.050   \n",
       "9  99186609       Real Betis    CD Alaves  1.750  3.700  4.500         1.950   \n",
       "\n",
       "  Both_Scores_N  \n",
       "0         1.950  \n",
       "1         1.571  \n",
       "2         1.615  \n",
       "3         1.666  \n",
       "4         2.100  \n",
       "5         1.800  \n",
       "6         1.909  \n",
       "7         1.950  \n",
       "8         1.700  \n",
       "9         1.800  "
      ]
     },
     "execution_count": 337,
     "metadata": {},
     "output_type": "execute_result"
    }
   ],
   "source": [
    "df_odds"
   ]
  }
 ],
 "metadata": {
  "kernelspec": {
   "display_name": "Python 3",
   "language": "python",
   "name": "python3"
  },
  "language_info": {
   "codemirror_mode": {
    "name": "ipython",
    "version": 3
   },
   "file_extension": ".py",
   "mimetype": "text/x-python",
   "name": "python",
   "nbconvert_exporter": "python",
   "pygments_lexer": "ipython3",
   "version": "3.8.3"
  }
 },
 "nbformat": 4,
 "nbformat_minor": 4
}
